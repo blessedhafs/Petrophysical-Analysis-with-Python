{
 "cells": [
  {
   "cell_type": "code",
   "execution_count": 1,
   "id": "15827a2c",
   "metadata": {},
   "outputs": [],
   "source": [
    "import pandas as pd\n",
    "import matplotlib as plt\n",
    "import lasio"
   ]
  },
  {
   "cell_type": "code",
   "execution_count": 2,
   "id": "eef38803",
   "metadata": {},
   "outputs": [],
   "source": [
    "# read the las file using lasio\n",
    "las = lasio.read(r\"C:\\Users\\HAFS\\Documents\\Dharmatttan\\LOGS\\Jay 01.LAS\")"
   ]
  },
  {
   "cell_type": "code",
   "execution_count": 5,
   "id": "44797713",
   "metadata": {},
   "outputs": [
    {
     "data": {
      "text/plain": [
       "{'Version': [HeaderItem(mnemonic=\"VERS\", unit=\"\", value=\"2.0\", descr=\"\"),\n",
       "  HeaderItem(mnemonic=\"WRAP\", unit=\"\", value=\"NO\", descr=\"\")],\n",
       " 'Well': [HeaderItem(mnemonic=\"STRT\", unit=\"ft\", value=\"6760.0\", descr=\"\"),\n",
       "  HeaderItem(mnemonic=\"STOP\", unit=\"ft\", value=\"7490.0\", descr=\"\"),\n",
       "  HeaderItem(mnemonic=\"STEP\", unit=\"ft\", value=\"0.5\", descr=\"\"),\n",
       "  HeaderItem(mnemonic=\"NULL\", unit=\"\", value=\"-999.25\", descr=\"\"),\n",
       "  HeaderItem(mnemonic=\"COMP\", unit=\"\", value=\"\", descr=\"COMPANY\"),\n",
       "  HeaderItem(mnemonic=\"WELL\", unit=\"\", value=\"Jay 01\", descr=\"WELL\"),\n",
       "  HeaderItem(mnemonic=\"FLD\", unit=\"\", value=\"\", descr=\"FIELD\"),\n",
       "  HeaderItem(mnemonic=\"LOC\", unit=\"\", value=\"\", descr=\"LOCATION\"),\n",
       "  HeaderItem(mnemonic=\"SRVC\", unit=\"\", value=\"\", descr=\"SERVICE COMPANY\"),\n",
       "  HeaderItem(mnemonic=\"DATE\", unit=\"\", value=\"2017-08-15 16:59:49   : Log Export\"),\n",
       "  HeaderItem(mnemonic=\"PROV\", unit=\"\", value=\"\", descr=\"PROVINCE\"),\n",
       "  HeaderItem(mnemonic=\"UWI\", unit=\"\", value=\"\", descr=\"UNIQUE WELL ID\"),\n",
       "  HeaderItem(mnemonic=\"API\", unit=\"\", value=\"\", descr=\"API NUMBER\")],\n",
       " 'Curves': [CurveItem(mnemonic=\"DEPT\", unit=\"ft\", value=\"\", descr=\"DEPTH\", original_mnemonic=\"DEPT\", data.shape=(1461,)),\n",
       "  CurveItem(mnemonic=\"GR_CED\", unit=\"gAPI\", value=\"\", descr=\"GR_CED\", original_mnemonic=\"GR_CED\", data.shape=(1461,)),\n",
       "  CurveItem(mnemonic=\"NEUSS_CED\", unit=\"\", value=\"\", descr=\"NEUSS_CED\", original_mnemonic=\"NEUSS_CED\", data.shape=(1461,)),\n",
       "  CurveItem(mnemonic=\"RESD_CED\", unit=\"ohm.m\", value=\"\", descr=\"RESD_CED\", original_mnemonic=\"RESD_CED\", data.shape=(1461,)),\n",
       "  CurveItem(mnemonic=\"RHOB_CED\", unit=\"\", value=\"\", descr=\"RHOB_CED\", original_mnemonic=\"RHOB_CED\", data.shape=(1461,)),\n",
       "  CurveItem(mnemonic=\"PHIE\", unit=\"m3/m3\", value=\"\", descr=\"PHIE\", original_mnemonic=\"PHIE\", data.shape=(1461,)),\n",
       "  CurveItem(mnemonic=\"SW\", unit=\"\", value=\"\", descr=\"Sw\", original_mnemonic=\"SW\", data.shape=(1461,)),\n",
       "  CurveItem(mnemonic=\"VSH\", unit=\"\", value=\"\", descr=\"Vsh\", original_mnemonic=\"VSH\", data.shape=(1461,))],\n",
       " 'Parameter': [],\n",
       " 'Other': ''}"
      ]
     },
     "execution_count": 5,
     "metadata": {},
     "output_type": "execute_result"
    }
   ],
   "source": [
    "las.sections"
   ]
  },
  {
   "cell_type": "code",
   "execution_count": 6,
   "id": "12ec205e",
   "metadata": {},
   "outputs": [
    {
     "data": {
      "text/plain": [
       "dict"
      ]
     },
     "execution_count": 6,
     "metadata": {},
     "output_type": "execute_result"
    }
   ],
   "source": [
    "#  checks datatype of las.sections\n",
    "type(las.sections)"
   ]
  },
  {
   "cell_type": "code",
   "execution_count": 8,
   "id": "27071871",
   "metadata": {},
   "outputs": [
    {
     "data": {
      "text/plain": [
       "dict_keys(['Version', 'Well', 'Curves', 'Parameter', 'Other'])"
      ]
     },
     "execution_count": 8,
     "metadata": {},
     "output_type": "execute_result"
    }
   ],
   "source": [
    "# checks the keys in the las file\n",
    "las.sections.keys()"
   ]
  },
  {
   "cell_type": "code",
   "execution_count": 9,
   "id": "a63d43af",
   "metadata": {},
   "outputs": [
    {
     "data": {
      "text/plain": [
       "[HeaderItem(mnemonic=\"STRT\", unit=\"ft\", value=\"6760.0\", descr=\"\"),\n",
       " HeaderItem(mnemonic=\"STOP\", unit=\"ft\", value=\"7490.0\", descr=\"\"),\n",
       " HeaderItem(mnemonic=\"STEP\", unit=\"ft\", value=\"0.5\", descr=\"\"),\n",
       " HeaderItem(mnemonic=\"NULL\", unit=\"\", value=\"-999.25\", descr=\"\"),\n",
       " HeaderItem(mnemonic=\"COMP\", unit=\"\", value=\"\", descr=\"COMPANY\"),\n",
       " HeaderItem(mnemonic=\"WELL\", unit=\"\", value=\"Jay 01\", descr=\"WELL\"),\n",
       " HeaderItem(mnemonic=\"FLD\", unit=\"\", value=\"\", descr=\"FIELD\"),\n",
       " HeaderItem(mnemonic=\"LOC\", unit=\"\", value=\"\", descr=\"LOCATION\"),\n",
       " HeaderItem(mnemonic=\"SRVC\", unit=\"\", value=\"\", descr=\"SERVICE COMPANY\"),\n",
       " HeaderItem(mnemonic=\"DATE\", unit=\"\", value=\"2017-08-15 16:59:49   : Log Export\"),\n",
       " HeaderItem(mnemonic=\"PROV\", unit=\"\", value=\"\", descr=\"PROVINCE\"),\n",
       " HeaderItem(mnemonic=\"UWI\", unit=\"\", value=\"\", descr=\"UNIQUE WELL ID\"),\n",
       " HeaderItem(mnemonic=\"API\", unit=\"\", value=\"\", descr=\"API NUMBER\")]"
      ]
     },
     "execution_count": 9,
     "metadata": {},
     "output_type": "execute_result"
    }
   ],
   "source": [
    "# explores each keys\n",
    "las.sections[\"Well\"]"
   ]
  },
  {
   "cell_type": "code",
   "execution_count": 10,
   "id": "505049f7",
   "metadata": {},
   "outputs": [
    {
     "data": {
      "text/plain": [
       "[HeaderItem(mnemonic=\"VERS\", unit=\"\", value=\"2.0\", descr=\"\"),\n",
       " HeaderItem(mnemonic=\"WRAP\", unit=\"\", value=\"NO\", descr=\"\")]"
      ]
     },
     "execution_count": 10,
     "metadata": {},
     "output_type": "execute_result"
    }
   ],
   "source": [
    "las.sections[\"Version\"]"
   ]
  },
  {
   "cell_type": "code",
   "execution_count": 16,
   "id": "22f37791",
   "metadata": {},
   "outputs": [
    {
     "name": "stdout",
     "output_type": "stream",
     "text": [
      " (STRT): \t 6760.0\n",
      " (STOP): \t 7490.0\n",
      " (STEP): \t 0.5\n",
      " (NULL): \t -999.25\n",
      "COMPANY (COMP): \t \n",
      "WELL (WELL): \t Jay 01\n",
      "FIELD (FLD): \t \n",
      "LOCATION (LOC): \t \n",
      "SERVICE COMPANY (SRVC): \t \n",
      "ss} (DATE): \t 2017-08-15 16:59:49   : Log Export Date {yyyy-MM-dd HH:mm\n",
      "PROVINCE (PROV): \t \n",
      "UNIQUE WELL ID (UWI): \t \n",
      "API NUMBER (API): \t \n"
     ]
    }
   ],
   "source": [
    "for item in las.sections[\"Well\"]:\n",
    "    print(f\"{item.descr} ({item.mnemonic}): \\t {item.value}\")"
   ]
  },
  {
   "cell_type": "code",
   "execution_count": 18,
   "id": "43d1b80e",
   "metadata": {},
   "outputs": [
    {
     "data": {
      "text/plain": [
       "[HeaderItem(mnemonic=\"STRT\", unit=\"ft\", value=\"6760.0\", descr=\"\"),\n",
       " HeaderItem(mnemonic=\"STOP\", unit=\"ft\", value=\"7490.0\", descr=\"\"),\n",
       " HeaderItem(mnemonic=\"STEP\", unit=\"ft\", value=\"0.5\", descr=\"\"),\n",
       " HeaderItem(mnemonic=\"NULL\", unit=\"\", value=\"-999.25\", descr=\"\"),\n",
       " HeaderItem(mnemonic=\"COMP\", unit=\"\", value=\"\", descr=\"COMPANY\"),\n",
       " HeaderItem(mnemonic=\"WELL\", unit=\"\", value=\"Jay 01\", descr=\"WELL\"),\n",
       " HeaderItem(mnemonic=\"FLD\", unit=\"\", value=\"\", descr=\"FIELD\"),\n",
       " HeaderItem(mnemonic=\"LOC\", unit=\"\", value=\"\", descr=\"LOCATION\"),\n",
       " HeaderItem(mnemonic=\"SRVC\", unit=\"\", value=\"\", descr=\"SERVICE COMPANY\"),\n",
       " HeaderItem(mnemonic=\"DATE\", unit=\"\", value=\"2017-08-15 16:59:49   : Log Export\"),\n",
       " HeaderItem(mnemonic=\"PROV\", unit=\"\", value=\"\", descr=\"PROVINCE\"),\n",
       " HeaderItem(mnemonic=\"UWI\", unit=\"\", value=\"\", descr=\"UNIQUE WELL ID\"),\n",
       " HeaderItem(mnemonic=\"API\", unit=\"\", value=\"\", descr=\"API NUMBER\")]"
      ]
     },
     "execution_count": 18,
     "metadata": {},
     "output_type": "execute_result"
    }
   ],
   "source": [
    "#Alternatively las.well returns the content of well\n",
    "las.well"
   ]
  },
  {
   "cell_type": "code",
   "execution_count": null,
   "id": "fe012b73",
   "metadata": {},
   "outputs": [],
   "source": []
  },
  {
   "cell_type": "code",
   "execution_count": 22,
   "id": "0182fa9d",
   "metadata": {},
   "outputs": [
    {
     "name": "stdout",
     "output_type": "stream",
     "text": [
      " (STRT): \t 6760.0ft\n",
      " (STOP): \t 7490.0ft\n",
      " (STEP): \t 0.5ft\n",
      " (NULL): \t -999.25\n",
      "COMPANY (COMP): \t \n",
      "WELL (WELL): \t Jay 01\n",
      "FIELD (FLD): \t \n",
      "LOCATION (LOC): \t \n",
      "SERVICE COMPANY (SRVC): \t \n",
      "ss} (DATE): \t 2017-08-15 16:59:49   : Log Export Date {yyyy-MM-dd HH:mm\n",
      "PROVINCE (PROV): \t \n",
      "UNIQUE WELL ID (UWI): \t \n",
      "API NUMBER (API): \t \n"
     ]
    }
   ],
   "source": [
    "for item in las.well:\n",
    "    print(f\"{item.descr} ({item.mnemonic}): \\t {item.value}{item.unit}\")"
   ]
  },
  {
   "cell_type": "code",
   "execution_count": 25,
   "id": "043ff7d6",
   "metadata": {},
   "outputs": [
    {
     "data": {
      "text/plain": [
       "'Jay 01'"
      ]
     },
     "execution_count": 25,
     "metadata": {},
     "output_type": "execute_result"
    }
   ],
   "source": [
    "# checks the name of the field\n",
    "las.well.Well.value"
   ]
  },
  {
   "cell_type": "code",
   "execution_count": 27,
   "id": "0e6ca08c",
   "metadata": {},
   "outputs": [
    {
     "data": {
      "text/plain": [
       "[CurveItem(mnemonic=\"DEPT\", unit=\"ft\", value=\"\", descr=\"DEPTH\", original_mnemonic=\"DEPT\", data.shape=(1461,)),\n",
       " CurveItem(mnemonic=\"GR_CED\", unit=\"gAPI\", value=\"\", descr=\"GR_CED\", original_mnemonic=\"GR_CED\", data.shape=(1461,)),\n",
       " CurveItem(mnemonic=\"NEUSS_CED\", unit=\"\", value=\"\", descr=\"NEUSS_CED\", original_mnemonic=\"NEUSS_CED\", data.shape=(1461,)),\n",
       " CurveItem(mnemonic=\"RESD_CED\", unit=\"ohm.m\", value=\"\", descr=\"RESD_CED\", original_mnemonic=\"RESD_CED\", data.shape=(1461,)),\n",
       " CurveItem(mnemonic=\"RHOB_CED\", unit=\"\", value=\"\", descr=\"RHOB_CED\", original_mnemonic=\"RHOB_CED\", data.shape=(1461,)),\n",
       " CurveItem(mnemonic=\"PHIE\", unit=\"m3/m3\", value=\"\", descr=\"PHIE\", original_mnemonic=\"PHIE\", data.shape=(1461,)),\n",
       " CurveItem(mnemonic=\"SW\", unit=\"\", value=\"\", descr=\"Sw\", original_mnemonic=\"SW\", data.shape=(1461,)),\n",
       " CurveItem(mnemonic=\"VSH\", unit=\"\", value=\"\", descr=\"Vsh\", original_mnemonic=\"VSH\", data.shape=(1461,))]"
      ]
     },
     "execution_count": 27,
     "metadata": {},
     "output_type": "execute_result"
    }
   ],
   "source": [
    "#returns the curves in the file\n",
    "las.curves"
   ]
  },
  {
   "cell_type": "code",
   "execution_count": 35,
   "id": "7681a8fd",
   "metadata": {},
   "outputs": [
    {
     "name": "stdout",
     "output_type": "stream",
     "text": [
      "DEPT\n",
      "GR_CED\n",
      "NEUSS_CED\n",
      "RESD_CED\n",
      "RHOB_CED\n",
      "PHIE\n",
      "SW\n",
      "VSH\n"
     ]
    }
   ],
   "source": [
    "for curve in las.curves:\n",
    "    print(curve.mnemonic)"
   ]
  },
  {
   "cell_type": "code",
   "execution_count": 41,
   "id": "a35b79df",
   "metadata": {},
   "outputs": [
    {
     "name": "stdout",
     "output_type": "stream",
     "text": [
      " Curve:DEPT, \t Units:ft\n",
      " Curve:GR_CED, \t Units:gAPI\n",
      " Curve:NEUSS_CED, \t Units:\n",
      " Curve:RESD_CED, \t Units:ohm.m\n",
      " Curve:RHOB_CED, \t Units:\n",
      " Curve:PHIE, \t Units:m3/m3\n",
      " Curve:SW, \t Units:\n",
      " Curve:VSH, \t Units:\n",
      "The total number of curves is 8 within the file\n"
     ]
    }
   ],
   "source": [
    "for index, curve in enumerate(las.curves):\n",
    "    print(f\" Curve:{curve.mnemonic}, \\t Units:{curve.unit}\")\n",
    "print(f\"The total number of curves is {index +1} within the file\")"
   ]
  },
  {
   "cell_type": "code",
   "execution_count": 43,
   "id": "368077fc",
   "metadata": {},
   "outputs": [],
   "source": [
    "#exports into a las file\n",
    "las.write(r'Exports/Jay_01_Exported.las')"
   ]
  },
  {
   "cell_type": "code",
   "execution_count": 44,
   "id": "82607b14",
   "metadata": {},
   "outputs": [],
   "source": [
    "# changes the file to a dataframe\n",
    "well = las.df()"
   ]
  },
  {
   "cell_type": "code",
   "execution_count": 45,
   "id": "c550f070",
   "metadata": {},
   "outputs": [
    {
     "data": {
      "text/html": [
       "<div>\n",
       "<style scoped>\n",
       "    .dataframe tbody tr th:only-of-type {\n",
       "        vertical-align: middle;\n",
       "    }\n",
       "\n",
       "    .dataframe tbody tr th {\n",
       "        vertical-align: top;\n",
       "    }\n",
       "\n",
       "    .dataframe thead th {\n",
       "        text-align: right;\n",
       "    }\n",
       "</style>\n",
       "<table border=\"1\" class=\"dataframe\">\n",
       "  <thead>\n",
       "    <tr style=\"text-align: right;\">\n",
       "      <th></th>\n",
       "      <th>GR_CED</th>\n",
       "      <th>NEUSS_CED</th>\n",
       "      <th>RESD_CED</th>\n",
       "      <th>RHOB_CED</th>\n",
       "      <th>PHIE</th>\n",
       "      <th>SW</th>\n",
       "      <th>VSH</th>\n",
       "    </tr>\n",
       "    <tr>\n",
       "      <th>DEPT</th>\n",
       "      <th></th>\n",
       "      <th></th>\n",
       "      <th></th>\n",
       "      <th></th>\n",
       "      <th></th>\n",
       "      <th></th>\n",
       "      <th></th>\n",
       "    </tr>\n",
       "  </thead>\n",
       "  <tbody>\n",
       "    <tr>\n",
       "      <th>6760.0</th>\n",
       "      <td>125.794998</td>\n",
       "      <td>0.3725</td>\n",
       "      <td>3.231</td>\n",
       "      <td>2.477</td>\n",
       "      <td>0.0000</td>\n",
       "      <td>1.0</td>\n",
       "      <td>1.0000</td>\n",
       "    </tr>\n",
       "    <tr>\n",
       "      <th>6760.5</th>\n",
       "      <td>124.441002</td>\n",
       "      <td>0.3688</td>\n",
       "      <td>3.134</td>\n",
       "      <td>2.478</td>\n",
       "      <td>0.0000</td>\n",
       "      <td>1.0</td>\n",
       "      <td>1.0000</td>\n",
       "    </tr>\n",
       "    <tr>\n",
       "      <th>6761.0</th>\n",
       "      <td>120.417000</td>\n",
       "      <td>0.3688</td>\n",
       "      <td>3.036</td>\n",
       "      <td>2.476</td>\n",
       "      <td>0.0000</td>\n",
       "      <td>1.0</td>\n",
       "      <td>1.0000</td>\n",
       "    </tr>\n",
       "    <tr>\n",
       "      <th>6761.5</th>\n",
       "      <td>117.928001</td>\n",
       "      <td>0.3744</td>\n",
       "      <td>2.942</td>\n",
       "      <td>2.471</td>\n",
       "      <td>0.0141</td>\n",
       "      <td>1.0</td>\n",
       "      <td>0.9373</td>\n",
       "    </tr>\n",
       "    <tr>\n",
       "      <th>6762.0</th>\n",
       "      <td>118.435997</td>\n",
       "      <td>0.3819</td>\n",
       "      <td>2.857</td>\n",
       "      <td>2.465</td>\n",
       "      <td>0.0110</td>\n",
       "      <td>1.0</td>\n",
       "      <td>0.9522</td>\n",
       "    </tr>\n",
       "  </tbody>\n",
       "</table>\n",
       "</div>"
      ],
      "text/plain": [
       "            GR_CED  NEUSS_CED  RESD_CED  RHOB_CED    PHIE   SW     VSH\n",
       "DEPT                                                                  \n",
       "6760.0  125.794998     0.3725     3.231     2.477  0.0000  1.0  1.0000\n",
       "6760.5  124.441002     0.3688     3.134     2.478  0.0000  1.0  1.0000\n",
       "6761.0  120.417000     0.3688     3.036     2.476  0.0000  1.0  1.0000\n",
       "6761.5  117.928001     0.3744     2.942     2.471  0.0141  1.0  0.9373\n",
       "6762.0  118.435997     0.3819     2.857     2.465  0.0110  1.0  0.9522"
      ]
     },
     "execution_count": 45,
     "metadata": {},
     "output_type": "execute_result"
    }
   ],
   "source": [
    "# checks the first five cells\n",
    "well.head()"
   ]
  },
  {
   "cell_type": "code",
   "execution_count": 46,
   "id": "67f96fe5",
   "metadata": {},
   "outputs": [
    {
     "data": {
      "text/html": [
       "<div>\n",
       "<style scoped>\n",
       "    .dataframe tbody tr th:only-of-type {\n",
       "        vertical-align: middle;\n",
       "    }\n",
       "\n",
       "    .dataframe tbody tr th {\n",
       "        vertical-align: top;\n",
       "    }\n",
       "\n",
       "    .dataframe thead th {\n",
       "        text-align: right;\n",
       "    }\n",
       "</style>\n",
       "<table border=\"1\" class=\"dataframe\">\n",
       "  <thead>\n",
       "    <tr style=\"text-align: right;\">\n",
       "      <th></th>\n",
       "      <th>GR_CED</th>\n",
       "      <th>NEUSS_CED</th>\n",
       "      <th>RESD_CED</th>\n",
       "      <th>RHOB_CED</th>\n",
       "      <th>PHIE</th>\n",
       "      <th>SW</th>\n",
       "      <th>VSH</th>\n",
       "    </tr>\n",
       "    <tr>\n",
       "      <th>DEPT</th>\n",
       "      <th></th>\n",
       "      <th></th>\n",
       "      <th></th>\n",
       "      <th></th>\n",
       "      <th></th>\n",
       "      <th></th>\n",
       "      <th></th>\n",
       "    </tr>\n",
       "  </thead>\n",
       "  <tbody>\n",
       "    <tr>\n",
       "      <th>7488.0</th>\n",
       "      <td>NaN</td>\n",
       "      <td>NaN</td>\n",
       "      <td>3.252</td>\n",
       "      <td>NaN</td>\n",
       "      <td>NaN</td>\n",
       "      <td>NaN</td>\n",
       "      <td>NaN</td>\n",
       "    </tr>\n",
       "    <tr>\n",
       "      <th>7488.5</th>\n",
       "      <td>NaN</td>\n",
       "      <td>NaN</td>\n",
       "      <td>3.205</td>\n",
       "      <td>NaN</td>\n",
       "      <td>NaN</td>\n",
       "      <td>NaN</td>\n",
       "      <td>NaN</td>\n",
       "    </tr>\n",
       "    <tr>\n",
       "      <th>7489.0</th>\n",
       "      <td>NaN</td>\n",
       "      <td>NaN</td>\n",
       "      <td>3.159</td>\n",
       "      <td>NaN</td>\n",
       "      <td>NaN</td>\n",
       "      <td>NaN</td>\n",
       "      <td>NaN</td>\n",
       "    </tr>\n",
       "    <tr>\n",
       "      <th>7489.5</th>\n",
       "      <td>NaN</td>\n",
       "      <td>NaN</td>\n",
       "      <td>3.119</td>\n",
       "      <td>NaN</td>\n",
       "      <td>NaN</td>\n",
       "      <td>NaN</td>\n",
       "      <td>NaN</td>\n",
       "    </tr>\n",
       "    <tr>\n",
       "      <th>7490.0</th>\n",
       "      <td>NaN</td>\n",
       "      <td>NaN</td>\n",
       "      <td>3.087</td>\n",
       "      <td>NaN</td>\n",
       "      <td>NaN</td>\n",
       "      <td>NaN</td>\n",
       "      <td>NaN</td>\n",
       "    </tr>\n",
       "  </tbody>\n",
       "</table>\n",
       "</div>"
      ],
      "text/plain": [
       "        GR_CED  NEUSS_CED  RESD_CED  RHOB_CED  PHIE  SW  VSH\n",
       "DEPT                                                        \n",
       "7488.0     NaN        NaN     3.252       NaN   NaN NaN  NaN\n",
       "7488.5     NaN        NaN     3.205       NaN   NaN NaN  NaN\n",
       "7489.0     NaN        NaN     3.159       NaN   NaN NaN  NaN\n",
       "7489.5     NaN        NaN     3.119       NaN   NaN NaN  NaN\n",
       "7490.0     NaN        NaN     3.087       NaN   NaN NaN  NaN"
      ]
     },
     "execution_count": 46,
     "metadata": {},
     "output_type": "execute_result"
    }
   ],
   "source": [
    "well.tail()"
   ]
  },
  {
   "cell_type": "code",
   "execution_count": 47,
   "id": "7322d558",
   "metadata": {},
   "outputs": [
    {
     "name": "stdout",
     "output_type": "stream",
     "text": [
      "<class 'pandas.core.frame.DataFrame'>\n",
      "Index: 1461 entries, 6760.0 to 7490.0\n",
      "Data columns (total 7 columns):\n",
      " #   Column     Non-Null Count  Dtype  \n",
      "---  ------     --------------  -----  \n",
      " 0   GR_CED     1390 non-null   float64\n",
      " 1   NEUSS_CED  1380 non-null   float64\n",
      " 2   RESD_CED   1461 non-null   float64\n",
      " 3   RHOB_CED   1413 non-null   float64\n",
      " 4   PHIE       1380 non-null   float64\n",
      " 5   SW         1380 non-null   float64\n",
      " 6   VSH        1390 non-null   float64\n",
      "dtypes: float64(7)\n",
      "memory usage: 91.3 KB\n"
     ]
    }
   ],
   "source": [
    "well.info() # gives information about the data type and null values in each curves"
   ]
  },
  {
   "cell_type": "code",
   "execution_count": 48,
   "id": "8a0bed1a",
   "metadata": {},
   "outputs": [
    {
     "data": {
      "text/html": [
       "<div>\n",
       "<style scoped>\n",
       "    .dataframe tbody tr th:only-of-type {\n",
       "        vertical-align: middle;\n",
       "    }\n",
       "\n",
       "    .dataframe tbody tr th {\n",
       "        vertical-align: top;\n",
       "    }\n",
       "\n",
       "    .dataframe thead th {\n",
       "        text-align: right;\n",
       "    }\n",
       "</style>\n",
       "<table border=\"1\" class=\"dataframe\">\n",
       "  <thead>\n",
       "    <tr style=\"text-align: right;\">\n",
       "      <th></th>\n",
       "      <th>GR_CED</th>\n",
       "      <th>NEUSS_CED</th>\n",
       "      <th>RESD_CED</th>\n",
       "      <th>RHOB_CED</th>\n",
       "      <th>PHIE</th>\n",
       "      <th>SW</th>\n",
       "      <th>VSH</th>\n",
       "    </tr>\n",
       "  </thead>\n",
       "  <tbody>\n",
       "    <tr>\n",
       "      <th>count</th>\n",
       "      <td>1390.000000</td>\n",
       "      <td>1380.000000</td>\n",
       "      <td>1461.000000</td>\n",
       "      <td>1413.000000</td>\n",
       "      <td>1380.000000</td>\n",
       "      <td>1380.000000</td>\n",
       "      <td>1390.000000</td>\n",
       "    </tr>\n",
       "    <tr>\n",
       "      <th>mean</th>\n",
       "      <td>77.109994</td>\n",
       "      <td>0.316299</td>\n",
       "      <td>120.362685</td>\n",
       "      <td>2.269456</td>\n",
       "      <td>0.154353</td>\n",
       "      <td>0.785861</td>\n",
       "      <td>0.432989</td>\n",
       "    </tr>\n",
       "    <tr>\n",
       "      <th>std</th>\n",
       "      <td>40.677405</td>\n",
       "      <td>0.093622</td>\n",
       "      <td>352.483578</td>\n",
       "      <td>0.151487</td>\n",
       "      <td>0.111393</td>\n",
       "      <td>0.327857</td>\n",
       "      <td>0.399311</td>\n",
       "    </tr>\n",
       "    <tr>\n",
       "      <th>min</th>\n",
       "      <td>20.677999</td>\n",
       "      <td>0.083400</td>\n",
       "      <td>1.172000</td>\n",
       "      <td>1.893000</td>\n",
       "      <td>0.000000</td>\n",
       "      <td>0.074400</td>\n",
       "      <td>0.000000</td>\n",
       "    </tr>\n",
       "    <tr>\n",
       "      <th>25%</th>\n",
       "      <td>35.655749</td>\n",
       "      <td>0.264900</td>\n",
       "      <td>2.268000</td>\n",
       "      <td>2.155000</td>\n",
       "      <td>0.037975</td>\n",
       "      <td>0.502825</td>\n",
       "      <td>0.040425</td>\n",
       "    </tr>\n",
       "    <tr>\n",
       "      <th>50%</th>\n",
       "      <td>71.865002</td>\n",
       "      <td>0.309200</td>\n",
       "      <td>7.998000</td>\n",
       "      <td>2.257000</td>\n",
       "      <td>0.171550</td>\n",
       "      <td>1.000000</td>\n",
       "      <td>0.245050</td>\n",
       "    </tr>\n",
       "    <tr>\n",
       "      <th>75%</th>\n",
       "      <td>114.615498</td>\n",
       "      <td>0.382150</td>\n",
       "      <td>31.775999</td>\n",
       "      <td>2.422000</td>\n",
       "      <td>0.260125</td>\n",
       "      <td>1.000000</td>\n",
       "      <td>0.847300</td>\n",
       "    </tr>\n",
       "    <tr>\n",
       "      <th>max</th>\n",
       "      <td>199.613998</td>\n",
       "      <td>0.489800</td>\n",
       "      <td>2000.000000</td>\n",
       "      <td>2.504000</td>\n",
       "      <td>0.319100</td>\n",
       "      <td>1.000000</td>\n",
       "      <td>1.000000</td>\n",
       "    </tr>\n",
       "  </tbody>\n",
       "</table>\n",
       "</div>"
      ],
      "text/plain": [
       "            GR_CED    NEUSS_CED     RESD_CED     RHOB_CED         PHIE  \\\n",
       "count  1390.000000  1380.000000  1461.000000  1413.000000  1380.000000   \n",
       "mean     77.109994     0.316299   120.362685     2.269456     0.154353   \n",
       "std      40.677405     0.093622   352.483578     0.151487     0.111393   \n",
       "min      20.677999     0.083400     1.172000     1.893000     0.000000   \n",
       "25%      35.655749     0.264900     2.268000     2.155000     0.037975   \n",
       "50%      71.865002     0.309200     7.998000     2.257000     0.171550   \n",
       "75%     114.615498     0.382150    31.775999     2.422000     0.260125   \n",
       "max     199.613998     0.489800  2000.000000     2.504000     0.319100   \n",
       "\n",
       "                SW          VSH  \n",
       "count  1380.000000  1390.000000  \n",
       "mean      0.785861     0.432989  \n",
       "std       0.327857     0.399311  \n",
       "min       0.074400     0.000000  \n",
       "25%       0.502825     0.040425  \n",
       "50%       1.000000     0.245050  \n",
       "75%       1.000000     0.847300  \n",
       "max       1.000000     1.000000  "
      ]
     },
     "execution_count": 48,
     "metadata": {},
     "output_type": "execute_result"
    }
   ],
   "source": [
    "well.describe() # gives the statistical summary of the curves"
   ]
  },
  {
   "cell_type": "code",
   "execution_count": 49,
   "id": "e00338ec",
   "metadata": {},
   "outputs": [
    {
     "data": {
      "text/plain": [
       "<Axes: xlabel='DEPT'>"
      ]
     },
     "execution_count": 49,
     "metadata": {},
     "output_type": "execute_result"
    },
    {
     "data": {
      "image/png": "[encoded data removed]",
      "text/plain": [
       "<Figure size 640x480 with 1 Axes>"
      ]
     },
     "metadata": {},
     "output_type": "display_data"
    }
   ],
   "source": [
    "well.plot()"
   ]
  },
  {
   "cell_type": "code",
   "execution_count": 50,
   "id": "e226d09f",
   "metadata": {},
   "outputs": [
    {
     "data": {
      "text/plain": [
       "<Axes: xlabel='DEPT'>"
      ]
     },
     "execution_count": 50,
     "metadata": {},
     "output_type": "execute_result"
    },
    {
     "data": {
      "image/png": "[encoded data removed]",
      "text/plain": [
       "<Figure size 640x480 with 1 Axes>"
      ]
     },
     "metadata": {},
     "output_type": "display_data"
    }
   ],
   "source": [
    "well.plot(y = \"RESD_CED\") #plots the resistivity curve"
   ]
  },
  {
   "cell_type": "code",
   "execution_count": null,
   "id": "0bcbe4ff",
   "metadata": {},
   "outputs": [],
   "source": []
  }
 ],
 "metadata": {
  "kernelspec": {
   "display_name": "Python 3 (ipykernel)",
   "language": "python",
   "name": "python3"
  },
  "language_info": {
   "codemirror_mode": {
    "name": "ipython",
    "version": 3
   },
   "file_extension": ".py",
   "mimetype": "text/x-python",
   "name": "python",
   "nbconvert_exporter": "python",
   "pygments_lexer": "ipython3",
   "version": "3.11.5"
  }
 },
 "nbformat": 4,
 "nbformat_minor": 5
}
